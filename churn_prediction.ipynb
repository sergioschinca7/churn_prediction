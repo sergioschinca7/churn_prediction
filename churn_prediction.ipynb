{
  "nbformat": 4,
  "nbformat_minor": 0,
  "metadata": {
    "colab": {
      "provenance": []
    },
    "kernelspec": {
      "name": "python3",
      "display_name": "Python 3"
    },
    "language_info": {
      "name": "python"
    }
  },
  "cells": [
    {
      "cell_type": "code",
      "execution_count": 1,
      "metadata": {
        "id": "h3bIWdW_flFw"
      },
      "outputs": [],
      "source": [
        "import numpy as np\n",
        "import pandas as pd\n",
        "import tensorflow as tf"
      ]
    },
    {
      "cell_type": "code",
      "source": [
        "df = pd.read_csv('./BankChurners.csv')\n",
        "X = df.iloc[:, 2:].values\n",
        "y = df.iloc[:, 1].values"
      ],
      "metadata": {
        "id": "e4yFPoYqf0BR"
      },
      "execution_count": 2,
      "outputs": []
    },
    {
      "cell_type": "code",
      "source": [
        "# Encoding categorical data\n",
        "# Label Encoding the \"Gender\" column\n",
        "from sklearn.preprocessing import LabelEncoder\n",
        "le = LabelEncoder()\n",
        "X[:, 1] = le.fit_transform(X[:, 1])"
      ],
      "metadata": {
        "id": "Itqdsfw228KF"
      },
      "execution_count": 3,
      "outputs": []
    },
    {
      "cell_type": "code",
      "source": [
        "# Encoding categorical output\n",
        "# Label Encoding the \"Attrition_Flag\" column\n",
        "y = le.fit_transform(y)"
      ],
      "metadata": {
        "id": "qDguHgm72-V6"
      },
      "execution_count": 4,
      "outputs": []
    },
    {
      "cell_type": "code",
      "source": [
        "# One Hot Encoding the \"Education_Level\" column\n",
        "from sklearn.compose import ColumnTransformer\n",
        "from sklearn.preprocessing import OneHotEncoder\n",
        "ct = ColumnTransformer(transformers=[('encoder', OneHotEncoder(), [3,4,5,6])], remainder='passthrough')\n",
        "X = np.array(ct.fit_transform(X))"
      ],
      "metadata": {
        "id": "fbyYRw4n3BYI"
      },
      "execution_count": 5,
      "outputs": []
    },
    {
      "cell_type": "code",
      "source": [
        "# Splitting the dataset into the Training set and Test set\n",
        "from sklearn.model_selection import train_test_split\n",
        "X_train, X_test, y_train, y_test = train_test_split(X, y, test_size = 0.2, random_state = 0)"
      ],
      "metadata": {
        "id": "ZwqZ0LIb3DHA"
      },
      "execution_count": 6,
      "outputs": []
    },
    {
      "cell_type": "code",
      "source": [
        "# Feature Scaling\n",
        "from sklearn.preprocessing import StandardScaler\n",
        "sc = StandardScaler()\n",
        "X_train = sc.fit_transform(X_train)\n",
        "X_test = sc.transform(X_test)"
      ],
      "metadata": {
        "id": "2P1qtvrx3HVR"
      },
      "execution_count": 7,
      "outputs": []
    },
    {
      "cell_type": "code",
      "source": [
        "# Initializing the ANN\n",
        "ann = tf.keras.models.Sequential()"
      ],
      "metadata": {
        "id": "vPmfZ_6b3I06"
      },
      "execution_count": 25,
      "outputs": []
    },
    {
      "cell_type": "code",
      "source": [
        "# Adding the input layer and the first hidden layer\n",
        "ann.add(tf.keras.layers.Dense(units=10, activation='relu'))"
      ],
      "metadata": {
        "id": "tV9Wjigq3Kyk"
      },
      "execution_count": 26,
      "outputs": []
    },
    {
      "cell_type": "code",
      "source": [
        "# Adding the second hidden layer\n",
        "ann.add(tf.keras.layers.Dense(units=10, activation='relu'))"
      ],
      "metadata": {
        "id": "-jOJFXhT-YLA"
      },
      "execution_count": 27,
      "outputs": []
    },
    {
      "cell_type": "code",
      "source": [
        "# Adding the third hidden layer\n",
        "ann.add(tf.keras.layers.Dense(units=10, activation='relu'))"
      ],
      "metadata": {
        "id": "cMgFzPyh-7lP"
      },
      "execution_count": 29,
      "outputs": []
    },
    {
      "cell_type": "code",
      "source": [
        "# Adding the fourth hidden layer\n",
        "ann.add(tf.keras.layers.Dense(units=10, activation='relu'))"
      ],
      "metadata": {
        "id": "IgSl0k_FA2Qg"
      },
      "execution_count": 30,
      "outputs": []
    },
    {
      "cell_type": "code",
      "source": [
        "# Adding the fifth hidden layer\n",
        "ann.add(tf.keras.layers.Dense(units=10, activation='relu'))"
      ],
      "metadata": {
        "id": "zOEPVnU3A48A"
      },
      "execution_count": 31,
      "outputs": []
    },
    {
      "cell_type": "code",
      "source": [
        "# Adding the output layer\n",
        "ann.add(tf.keras.layers.Dense(units=1, activation='sigmoid'))"
      ],
      "metadata": {
        "id": "_uJQuuun-bh5"
      },
      "execution_count": 32,
      "outputs": []
    },
    {
      "cell_type": "code",
      "source": [
        "# Compiling the ANN\n",
        "ann.compile(optimizer = 'adam', loss = 'binary_crossentropy', metrics = ['accuracy'])"
      ],
      "metadata": {
        "id": "PF8UHRiE-d-O"
      },
      "execution_count": 33,
      "outputs": []
    },
    {
      "cell_type": "code",
      "source": [
        "# Training the ANN on the Training set\n",
        "ann.fit(X_train, y_train, batch_size = 32, epochs = 200)"
      ],
      "metadata": {
        "colab": {
          "base_uri": "https://localhost:8080/"
        },
        "id": "DOrDLiyn-fY2",
        "outputId": "ced6bd34-3618-4e14-be81-eb56e1f11b2d"
      },
      "execution_count": 34,
      "outputs": [
        {
          "output_type": "stream",
          "name": "stdout",
          "text": [
            "Epoch 1/200\n",
            "254/254 [==============================] - 1s 3ms/step - loss: 0.4620 - accuracy: 0.8287\n",
            "Epoch 2/200\n",
            "254/254 [==============================] - 1s 3ms/step - loss: 0.3241 - accuracy: 0.8472\n",
            "Epoch 3/200\n",
            "254/254 [==============================] - 1s 2ms/step - loss: 0.2731 - accuracy: 0.8898\n",
            "Epoch 4/200\n",
            "254/254 [==============================] - 1s 2ms/step - loss: 0.2517 - accuracy: 0.8994\n",
            "Epoch 5/200\n",
            "254/254 [==============================] - 1s 2ms/step - loss: 0.2372 - accuracy: 0.9057\n",
            "Epoch 6/200\n",
            "254/254 [==============================] - 1s 2ms/step - loss: 0.2269 - accuracy: 0.9106\n",
            "Epoch 7/200\n",
            "254/254 [==============================] - 1s 2ms/step - loss: 0.2191 - accuracy: 0.9110\n",
            "Epoch 8/200\n",
            "254/254 [==============================] - 1s 2ms/step - loss: 0.2103 - accuracy: 0.9151\n",
            "Epoch 9/200\n",
            "254/254 [==============================] - 1s 2ms/step - loss: 0.2045 - accuracy: 0.9162\n",
            "Epoch 10/200\n",
            "254/254 [==============================] - 1s 2ms/step - loss: 0.1975 - accuracy: 0.9203\n",
            "Epoch 11/200\n",
            "254/254 [==============================] - 1s 2ms/step - loss: 0.1933 - accuracy: 0.9209\n",
            "Epoch 12/200\n",
            "254/254 [==============================] - 1s 2ms/step - loss: 0.1887 - accuracy: 0.9224\n",
            "Epoch 13/200\n",
            "254/254 [==============================] - 1s 2ms/step - loss: 0.1843 - accuracy: 0.9257\n",
            "Epoch 14/200\n",
            "254/254 [==============================] - 1s 2ms/step - loss: 0.1818 - accuracy: 0.9264\n",
            "Epoch 15/200\n",
            "254/254 [==============================] - 1s 2ms/step - loss: 0.1791 - accuracy: 0.9252\n",
            "Epoch 16/200\n",
            "254/254 [==============================] - 1s 2ms/step - loss: 0.1759 - accuracy: 0.9269\n",
            "Epoch 17/200\n",
            "254/254 [==============================] - 1s 2ms/step - loss: 0.1737 - accuracy: 0.9306\n",
            "Epoch 18/200\n",
            "254/254 [==============================] - 1s 2ms/step - loss: 0.1713 - accuracy: 0.9304\n",
            "Epoch 19/200\n",
            "254/254 [==============================] - 1s 2ms/step - loss: 0.1694 - accuracy: 0.9316\n",
            "Epoch 20/200\n",
            "254/254 [==============================] - 1s 2ms/step - loss: 0.1662 - accuracy: 0.9312\n",
            "Epoch 21/200\n",
            "254/254 [==============================] - 1s 2ms/step - loss: 0.1640 - accuracy: 0.9321\n",
            "Epoch 22/200\n",
            "254/254 [==============================] - 1s 2ms/step - loss: 0.1628 - accuracy: 0.9337\n",
            "Epoch 23/200\n",
            "254/254 [==============================] - 1s 2ms/step - loss: 0.1601 - accuracy: 0.9351\n",
            "Epoch 24/200\n",
            "254/254 [==============================] - 1s 2ms/step - loss: 0.1589 - accuracy: 0.9325\n",
            "Epoch 25/200\n",
            "254/254 [==============================] - 1s 3ms/step - loss: 0.1576 - accuracy: 0.9337\n",
            "Epoch 26/200\n",
            "254/254 [==============================] - 1s 2ms/step - loss: 0.1560 - accuracy: 0.9351\n",
            "Epoch 27/200\n",
            "254/254 [==============================] - 1s 2ms/step - loss: 0.1535 - accuracy: 0.9358\n",
            "Epoch 28/200\n",
            "254/254 [==============================] - 1s 2ms/step - loss: 0.1522 - accuracy: 0.9377\n",
            "Epoch 29/200\n",
            "254/254 [==============================] - 1s 2ms/step - loss: 0.1520 - accuracy: 0.9384\n",
            "Epoch 30/200\n",
            "254/254 [==============================] - 1s 2ms/step - loss: 0.1499 - accuracy: 0.9380\n",
            "Epoch 31/200\n",
            "254/254 [==============================] - 1s 2ms/step - loss: 0.1486 - accuracy: 0.9383\n",
            "Epoch 32/200\n",
            "254/254 [==============================] - 1s 2ms/step - loss: 0.1464 - accuracy: 0.9400\n",
            "Epoch 33/200\n",
            "254/254 [==============================] - 1s 2ms/step - loss: 0.1452 - accuracy: 0.9393\n",
            "Epoch 34/200\n",
            "254/254 [==============================] - 1s 2ms/step - loss: 0.1443 - accuracy: 0.9416\n",
            "Epoch 35/200\n",
            "254/254 [==============================] - 1s 2ms/step - loss: 0.1427 - accuracy: 0.9412\n",
            "Epoch 36/200\n",
            "254/254 [==============================] - 1s 2ms/step - loss: 0.1432 - accuracy: 0.9424\n",
            "Epoch 37/200\n",
            "254/254 [==============================] - 1s 2ms/step - loss: 0.1414 - accuracy: 0.9414\n",
            "Epoch 38/200\n",
            "254/254 [==============================] - 1s 3ms/step - loss: 0.1416 - accuracy: 0.9399\n",
            "Epoch 39/200\n",
            "254/254 [==============================] - 1s 2ms/step - loss: 0.1390 - accuracy: 0.9416\n",
            "Epoch 40/200\n",
            "254/254 [==============================] - 1s 2ms/step - loss: 0.1374 - accuracy: 0.9425\n",
            "Epoch 41/200\n",
            "254/254 [==============================] - 1s 2ms/step - loss: 0.1366 - accuracy: 0.9441\n",
            "Epoch 42/200\n",
            "254/254 [==============================] - 1s 2ms/step - loss: 0.1352 - accuracy: 0.9437\n",
            "Epoch 43/200\n",
            "254/254 [==============================] - 1s 2ms/step - loss: 0.1341 - accuracy: 0.9433\n",
            "Epoch 44/200\n",
            "254/254 [==============================] - 1s 2ms/step - loss: 0.1338 - accuracy: 0.9438\n",
            "Epoch 45/200\n",
            "254/254 [==============================] - 1s 2ms/step - loss: 0.1331 - accuracy: 0.9456\n",
            "Epoch 46/200\n",
            "254/254 [==============================] - 1s 2ms/step - loss: 0.1314 - accuracy: 0.9467\n",
            "Epoch 47/200\n",
            "254/254 [==============================] - 1s 2ms/step - loss: 0.1319 - accuracy: 0.9438\n",
            "Epoch 48/200\n",
            "254/254 [==============================] - 1s 2ms/step - loss: 0.1306 - accuracy: 0.9467\n",
            "Epoch 49/200\n",
            "254/254 [==============================] - 1s 2ms/step - loss: 0.1306 - accuracy: 0.9467\n",
            "Epoch 50/200\n",
            "254/254 [==============================] - 1s 2ms/step - loss: 0.1299 - accuracy: 0.9457\n",
            "Epoch 51/200\n",
            "254/254 [==============================] - 1s 2ms/step - loss: 0.1295 - accuracy: 0.9467\n",
            "Epoch 52/200\n",
            "254/254 [==============================] - 1s 2ms/step - loss: 0.1271 - accuracy: 0.9479\n",
            "Epoch 53/200\n",
            "254/254 [==============================] - 1s 2ms/step - loss: 0.1277 - accuracy: 0.9491\n",
            "Epoch 54/200\n",
            "254/254 [==============================] - 1s 3ms/step - loss: 0.1281 - accuracy: 0.9482\n",
            "Epoch 55/200\n",
            "254/254 [==============================] - 1s 2ms/step - loss: 0.1275 - accuracy: 0.9480\n",
            "Epoch 56/200\n",
            "254/254 [==============================] - 1s 2ms/step - loss: 0.1257 - accuracy: 0.9482\n",
            "Epoch 57/200\n",
            "254/254 [==============================] - 1s 2ms/step - loss: 0.1265 - accuracy: 0.9503\n",
            "Epoch 58/200\n",
            "254/254 [==============================] - 1s 3ms/step - loss: 0.1243 - accuracy: 0.9505\n",
            "Epoch 59/200\n",
            "254/254 [==============================] - 1s 2ms/step - loss: 0.1243 - accuracy: 0.9485\n",
            "Epoch 60/200\n",
            "254/254 [==============================] - 1s 2ms/step - loss: 0.1237 - accuracy: 0.9507\n",
            "Epoch 61/200\n",
            "254/254 [==============================] - 1s 2ms/step - loss: 0.1254 - accuracy: 0.9495\n",
            "Epoch 62/200\n",
            "254/254 [==============================] - 1s 2ms/step - loss: 0.1213 - accuracy: 0.9511\n",
            "Epoch 63/200\n",
            "254/254 [==============================] - 1s 2ms/step - loss: 0.1248 - accuracy: 0.9484\n",
            "Epoch 64/200\n",
            "254/254 [==============================] - 1s 2ms/step - loss: 0.1205 - accuracy: 0.9510\n",
            "Epoch 65/200\n",
            "254/254 [==============================] - 1s 3ms/step - loss: 0.1211 - accuracy: 0.9510\n",
            "Epoch 66/200\n",
            "254/254 [==============================] - 1s 2ms/step - loss: 0.1204 - accuracy: 0.9526\n",
            "Epoch 67/200\n",
            "254/254 [==============================] - 1s 2ms/step - loss: 0.1194 - accuracy: 0.9521\n",
            "Epoch 68/200\n",
            "254/254 [==============================] - 1s 2ms/step - loss: 0.1200 - accuracy: 0.9514\n",
            "Epoch 69/200\n",
            "254/254 [==============================] - 1s 2ms/step - loss: 0.1187 - accuracy: 0.9503\n",
            "Epoch 70/200\n",
            "254/254 [==============================] - 1s 2ms/step - loss: 0.1189 - accuracy: 0.9527\n",
            "Epoch 71/200\n",
            "254/254 [==============================] - 1s 3ms/step - loss: 0.1190 - accuracy: 0.9514\n",
            "Epoch 72/200\n",
            "254/254 [==============================] - 1s 2ms/step - loss: 0.1192 - accuracy: 0.9532\n",
            "Epoch 73/200\n",
            "254/254 [==============================] - 1s 3ms/step - loss: 0.1187 - accuracy: 0.9512\n",
            "Epoch 74/200\n",
            "254/254 [==============================] - 1s 2ms/step - loss: 0.1174 - accuracy: 0.9537\n",
            "Epoch 75/200\n",
            "254/254 [==============================] - 1s 2ms/step - loss: 0.1165 - accuracy: 0.9541\n",
            "Epoch 76/200\n",
            "254/254 [==============================] - 1s 2ms/step - loss: 0.1153 - accuracy: 0.9540\n",
            "Epoch 77/200\n",
            "254/254 [==============================] - 1s 2ms/step - loss: 0.1150 - accuracy: 0.9551\n",
            "Epoch 78/200\n",
            "254/254 [==============================] - 1s 3ms/step - loss: 0.1153 - accuracy: 0.9541\n",
            "Epoch 79/200\n",
            "254/254 [==============================] - 1s 2ms/step - loss: 0.1146 - accuracy: 0.9535\n",
            "Epoch 80/200\n",
            "254/254 [==============================] - 1s 3ms/step - loss: 0.1178 - accuracy: 0.9528\n",
            "Epoch 81/200\n",
            "254/254 [==============================] - 1s 3ms/step - loss: 0.1143 - accuracy: 0.9541\n",
            "Epoch 82/200\n",
            "254/254 [==============================] - 1s 3ms/step - loss: 0.1148 - accuracy: 0.9547\n",
            "Epoch 83/200\n",
            "254/254 [==============================] - 1s 3ms/step - loss: 0.1124 - accuracy: 0.9554\n",
            "Epoch 84/200\n",
            "254/254 [==============================] - 1s 3ms/step - loss: 0.1122 - accuracy: 0.9548\n",
            "Epoch 85/200\n",
            "254/254 [==============================] - 1s 3ms/step - loss: 0.1132 - accuracy: 0.9546\n",
            "Epoch 86/200\n",
            "254/254 [==============================] - 1s 2ms/step - loss: 0.1129 - accuracy: 0.9547\n",
            "Epoch 87/200\n",
            "254/254 [==============================] - 1s 3ms/step - loss: 0.1112 - accuracy: 0.9568\n",
            "Epoch 88/200\n",
            "254/254 [==============================] - 1s 2ms/step - loss: 0.1116 - accuracy: 0.9562\n",
            "Epoch 89/200\n",
            "254/254 [==============================] - 1s 3ms/step - loss: 0.1120 - accuracy: 0.9557\n",
            "Epoch 90/200\n",
            "254/254 [==============================] - 1s 3ms/step - loss: 0.1111 - accuracy: 0.9553\n",
            "Epoch 91/200\n",
            "254/254 [==============================] - 1s 2ms/step - loss: 0.1095 - accuracy: 0.9579\n",
            "Epoch 92/200\n",
            "254/254 [==============================] - 1s 2ms/step - loss: 0.1112 - accuracy: 0.9570\n",
            "Epoch 93/200\n",
            "254/254 [==============================] - 1s 3ms/step - loss: 0.1137 - accuracy: 0.9547\n",
            "Epoch 94/200\n",
            "254/254 [==============================] - 1s 2ms/step - loss: 0.1113 - accuracy: 0.9556\n",
            "Epoch 95/200\n",
            "254/254 [==============================] - 1s 3ms/step - loss: 0.1107 - accuracy: 0.9568\n",
            "Epoch 96/200\n",
            "254/254 [==============================] - 1s 2ms/step - loss: 0.1111 - accuracy: 0.9569\n",
            "Epoch 97/200\n",
            "254/254 [==============================] - 1s 2ms/step - loss: 0.1098 - accuracy: 0.9561\n",
            "Epoch 98/200\n",
            "254/254 [==============================] - 1s 2ms/step - loss: 0.1098 - accuracy: 0.9579\n",
            "Epoch 99/200\n",
            "254/254 [==============================] - 1s 2ms/step - loss: 0.1074 - accuracy: 0.9578\n",
            "Epoch 100/200\n",
            "254/254 [==============================] - 1s 2ms/step - loss: 0.1076 - accuracy: 0.9594\n",
            "Epoch 101/200\n",
            "254/254 [==============================] - 1s 2ms/step - loss: 0.1127 - accuracy: 0.9568\n",
            "Epoch 102/200\n",
            "254/254 [==============================] - 1s 2ms/step - loss: 0.1078 - accuracy: 0.9568\n",
            "Epoch 103/200\n",
            "254/254 [==============================] - 1s 3ms/step - loss: 0.1094 - accuracy: 0.9583\n",
            "Epoch 104/200\n",
            "254/254 [==============================] - 1s 3ms/step - loss: 0.1081 - accuracy: 0.9557\n",
            "Epoch 105/200\n",
            "254/254 [==============================] - 1s 2ms/step - loss: 0.1085 - accuracy: 0.9578\n",
            "Epoch 106/200\n",
            "254/254 [==============================] - 1s 3ms/step - loss: 0.1069 - accuracy: 0.9582\n",
            "Epoch 107/200\n",
            "254/254 [==============================] - 1s 2ms/step - loss: 0.1084 - accuracy: 0.9574\n",
            "Epoch 108/200\n",
            "254/254 [==============================] - 1s 3ms/step - loss: 0.1068 - accuracy: 0.9588\n",
            "Epoch 109/200\n",
            "254/254 [==============================] - 1s 3ms/step - loss: 0.1080 - accuracy: 0.9584\n",
            "Epoch 110/200\n",
            "254/254 [==============================] - 1s 3ms/step - loss: 0.1051 - accuracy: 0.9591\n",
            "Epoch 111/200\n",
            "254/254 [==============================] - 1s 2ms/step - loss: 0.1071 - accuracy: 0.9588\n",
            "Epoch 112/200\n",
            "254/254 [==============================] - 1s 2ms/step - loss: 0.1040 - accuracy: 0.9589\n",
            "Epoch 113/200\n",
            "254/254 [==============================] - 1s 2ms/step - loss: 0.1059 - accuracy: 0.9590\n",
            "Epoch 114/200\n",
            "254/254 [==============================] - 1s 2ms/step - loss: 0.1055 - accuracy: 0.9588\n",
            "Epoch 115/200\n",
            "254/254 [==============================] - 1s 3ms/step - loss: 0.1037 - accuracy: 0.9601\n",
            "Epoch 116/200\n",
            "254/254 [==============================] - 1s 2ms/step - loss: 0.1066 - accuracy: 0.9579\n",
            "Epoch 117/200\n",
            "254/254 [==============================] - 1s 3ms/step - loss: 0.1047 - accuracy: 0.9584\n",
            "Epoch 118/200\n",
            "254/254 [==============================] - 1s 2ms/step - loss: 0.1048 - accuracy: 0.9579\n",
            "Epoch 119/200\n",
            "254/254 [==============================] - 1s 3ms/step - loss: 0.1018 - accuracy: 0.9611\n",
            "Epoch 120/200\n",
            "254/254 [==============================] - 1s 3ms/step - loss: 0.1025 - accuracy: 0.9605\n",
            "Epoch 121/200\n",
            "254/254 [==============================] - 1s 2ms/step - loss: 0.1056 - accuracy: 0.9570\n",
            "Epoch 122/200\n",
            "254/254 [==============================] - 1s 2ms/step - loss: 0.1024 - accuracy: 0.9606\n",
            "Epoch 123/200\n",
            "254/254 [==============================] - 1s 2ms/step - loss: 0.1019 - accuracy: 0.9600\n",
            "Epoch 124/200\n",
            "254/254 [==============================] - 1s 2ms/step - loss: 0.1001 - accuracy: 0.9609\n",
            "Epoch 125/200\n",
            "254/254 [==============================] - 1s 3ms/step - loss: 0.1013 - accuracy: 0.9605\n",
            "Epoch 126/200\n",
            "254/254 [==============================] - 1s 2ms/step - loss: 0.0987 - accuracy: 0.9625\n",
            "Epoch 127/200\n",
            "254/254 [==============================] - 1s 3ms/step - loss: 0.1011 - accuracy: 0.9600\n",
            "Epoch 128/200\n",
            "254/254 [==============================] - 1s 3ms/step - loss: 0.1008 - accuracy: 0.9594\n",
            "Epoch 129/200\n",
            "254/254 [==============================] - 1s 3ms/step - loss: 0.0994 - accuracy: 0.9621\n",
            "Epoch 130/200\n",
            "254/254 [==============================] - 1s 3ms/step - loss: 0.1008 - accuracy: 0.9609\n",
            "Epoch 131/200\n",
            "254/254 [==============================] - 1s 3ms/step - loss: 0.0995 - accuracy: 0.9611\n",
            "Epoch 132/200\n",
            "254/254 [==============================] - 1s 3ms/step - loss: 0.0996 - accuracy: 0.9628\n",
            "Epoch 133/200\n",
            "254/254 [==============================] - 1s 2ms/step - loss: 0.0965 - accuracy: 0.9642\n",
            "Epoch 134/200\n",
            "254/254 [==============================] - 1s 2ms/step - loss: 0.0984 - accuracy: 0.9600\n",
            "Epoch 135/200\n",
            "254/254 [==============================] - 1s 3ms/step - loss: 0.0998 - accuracy: 0.9600\n",
            "Epoch 136/200\n",
            "254/254 [==============================] - 1s 2ms/step - loss: 0.0977 - accuracy: 0.9626\n",
            "Epoch 137/200\n",
            "254/254 [==============================] - 1s 2ms/step - loss: 0.1008 - accuracy: 0.9600\n",
            "Epoch 138/200\n",
            "254/254 [==============================] - 1s 3ms/step - loss: 0.0975 - accuracy: 0.9609\n",
            "Epoch 139/200\n",
            "254/254 [==============================] - 1s 2ms/step - loss: 0.0950 - accuracy: 0.9627\n",
            "Epoch 140/200\n",
            "254/254 [==============================] - 1s 2ms/step - loss: 0.1000 - accuracy: 0.9605\n",
            "Epoch 141/200\n",
            "254/254 [==============================] - 1s 3ms/step - loss: 0.0989 - accuracy: 0.9600\n",
            "Epoch 142/200\n",
            "254/254 [==============================] - 1s 2ms/step - loss: 0.0958 - accuracy: 0.9632\n",
            "Epoch 143/200\n",
            "254/254 [==============================] - 1s 2ms/step - loss: 0.0978 - accuracy: 0.9635\n",
            "Epoch 144/200\n",
            "254/254 [==============================] - 1s 3ms/step - loss: 0.0946 - accuracy: 0.9636\n",
            "Epoch 145/200\n",
            "254/254 [==============================] - 1s 2ms/step - loss: 0.0955 - accuracy: 0.9620\n",
            "Epoch 146/200\n",
            "254/254 [==============================] - 1s 3ms/step - loss: 0.0972 - accuracy: 0.9632\n",
            "Epoch 147/200\n",
            "254/254 [==============================] - 1s 2ms/step - loss: 0.0985 - accuracy: 0.9621\n",
            "Epoch 148/200\n",
            "254/254 [==============================] - 1s 2ms/step - loss: 0.0920 - accuracy: 0.9643\n",
            "Epoch 149/200\n",
            "254/254 [==============================] - 1s 3ms/step - loss: 0.0921 - accuracy: 0.9653\n",
            "Epoch 150/200\n",
            "254/254 [==============================] - 1s 2ms/step - loss: 0.0951 - accuracy: 0.9627\n",
            "Epoch 151/200\n",
            "254/254 [==============================] - 1s 3ms/step - loss: 0.0983 - accuracy: 0.9620\n",
            "Epoch 152/200\n",
            "254/254 [==============================] - 1s 2ms/step - loss: 0.0955 - accuracy: 0.9632\n",
            "Epoch 153/200\n",
            "254/254 [==============================] - 1s 2ms/step - loss: 0.0947 - accuracy: 0.9640\n",
            "Epoch 154/200\n",
            "254/254 [==============================] - 1s 3ms/step - loss: 0.0945 - accuracy: 0.9625\n",
            "Epoch 155/200\n",
            "254/254 [==============================] - 1s 2ms/step - loss: 0.0913 - accuracy: 0.9651\n",
            "Epoch 156/200\n",
            "254/254 [==============================] - 1s 2ms/step - loss: 0.0928 - accuracy: 0.9627\n",
            "Epoch 157/200\n",
            "254/254 [==============================] - 1s 2ms/step - loss: 0.0947 - accuracy: 0.9643\n",
            "Epoch 158/200\n",
            "254/254 [==============================] - 1s 2ms/step - loss: 0.0938 - accuracy: 0.9636\n",
            "Epoch 159/200\n",
            "254/254 [==============================] - 1s 3ms/step - loss: 0.1003 - accuracy: 0.9604\n",
            "Epoch 160/200\n",
            "254/254 [==============================] - 1s 4ms/step - loss: 0.0907 - accuracy: 0.9631\n",
            "Epoch 161/200\n",
            "254/254 [==============================] - 1s 4ms/step - loss: 0.0921 - accuracy: 0.9643\n",
            "Epoch 162/200\n",
            "254/254 [==============================] - 1s 4ms/step - loss: 0.0933 - accuracy: 0.9638\n",
            "Epoch 163/200\n",
            "254/254 [==============================] - 1s 3ms/step - loss: 0.0922 - accuracy: 0.9654\n",
            "Epoch 164/200\n",
            "254/254 [==============================] - 1s 2ms/step - loss: 0.0926 - accuracy: 0.9649\n",
            "Epoch 165/200\n",
            "254/254 [==============================] - 1s 3ms/step - loss: 0.0913 - accuracy: 0.9661\n",
            "Epoch 166/200\n",
            "254/254 [==============================] - 1s 2ms/step - loss: 0.0942 - accuracy: 0.9620\n",
            "Epoch 167/200\n",
            "254/254 [==============================] - 1s 2ms/step - loss: 0.0970 - accuracy: 0.9612\n",
            "Epoch 168/200\n",
            "254/254 [==============================] - 1s 2ms/step - loss: 0.0949 - accuracy: 0.9620\n",
            "Epoch 169/200\n",
            "254/254 [==============================] - 1s 2ms/step - loss: 0.0907 - accuracy: 0.9656\n",
            "Epoch 170/200\n",
            "254/254 [==============================] - 1s 3ms/step - loss: 0.0926 - accuracy: 0.9631\n",
            "Epoch 171/200\n",
            "254/254 [==============================] - 1s 2ms/step - loss: 0.0911 - accuracy: 0.9649\n",
            "Epoch 172/200\n",
            "254/254 [==============================] - 1s 2ms/step - loss: 0.0891 - accuracy: 0.9665\n",
            "Epoch 173/200\n",
            "254/254 [==============================] - 1s 2ms/step - loss: 0.0870 - accuracy: 0.9665\n",
            "Epoch 174/200\n",
            "254/254 [==============================] - 1s 2ms/step - loss: 0.0900 - accuracy: 0.9657\n",
            "Epoch 175/200\n",
            "254/254 [==============================] - 1s 2ms/step - loss: 0.0902 - accuracy: 0.9633\n",
            "Epoch 176/200\n",
            "254/254 [==============================] - 1s 2ms/step - loss: 0.0906 - accuracy: 0.9662\n",
            "Epoch 177/200\n",
            "254/254 [==============================] - 1s 2ms/step - loss: 0.0912 - accuracy: 0.9662\n",
            "Epoch 178/200\n",
            "254/254 [==============================] - 1s 2ms/step - loss: 0.0959 - accuracy: 0.9621\n",
            "Epoch 179/200\n",
            "254/254 [==============================] - 1s 2ms/step - loss: 0.0909 - accuracy: 0.9647\n",
            "Epoch 180/200\n",
            "254/254 [==============================] - 1s 2ms/step - loss: 0.0892 - accuracy: 0.9658\n",
            "Epoch 181/200\n",
            "254/254 [==============================] - 1s 2ms/step - loss: 0.0923 - accuracy: 0.9642\n",
            "Epoch 182/200\n",
            "254/254 [==============================] - 1s 2ms/step - loss: 0.0877 - accuracy: 0.9657\n",
            "Epoch 183/200\n",
            "254/254 [==============================] - 1s 2ms/step - loss: 0.0935 - accuracy: 0.9631\n",
            "Epoch 184/200\n",
            "254/254 [==============================] - 1s 2ms/step - loss: 0.0927 - accuracy: 0.9626\n",
            "Epoch 185/200\n",
            "254/254 [==============================] - 1s 3ms/step - loss: 0.0907 - accuracy: 0.9652\n",
            "Epoch 186/200\n",
            "254/254 [==============================] - 1s 3ms/step - loss: 0.0869 - accuracy: 0.9662\n",
            "Epoch 187/200\n",
            "254/254 [==============================] - 1s 2ms/step - loss: 0.0874 - accuracy: 0.9667\n",
            "Epoch 188/200\n",
            "254/254 [==============================] - 1s 2ms/step - loss: 0.0934 - accuracy: 0.9644\n",
            "Epoch 189/200\n",
            "254/254 [==============================] - 1s 3ms/step - loss: 0.0926 - accuracy: 0.9646\n",
            "Epoch 190/200\n",
            "254/254 [==============================] - 1s 2ms/step - loss: 0.0882 - accuracy: 0.9651\n",
            "Epoch 191/200\n",
            "254/254 [==============================] - 1s 2ms/step - loss: 0.0859 - accuracy: 0.9661\n",
            "Epoch 192/200\n",
            "254/254 [==============================] - 1s 2ms/step - loss: 0.0930 - accuracy: 0.9627\n",
            "Epoch 193/200\n",
            "254/254 [==============================] - 1s 2ms/step - loss: 0.0872 - accuracy: 0.9664\n",
            "Epoch 194/200\n",
            "254/254 [==============================] - 1s 2ms/step - loss: 0.0882 - accuracy: 0.9657\n",
            "Epoch 195/200\n",
            "254/254 [==============================] - 1s 3ms/step - loss: 0.0916 - accuracy: 0.9649\n",
            "Epoch 196/200\n",
            "254/254 [==============================] - 1s 3ms/step - loss: 0.0898 - accuracy: 0.9642\n",
            "Epoch 197/200\n",
            "254/254 [==============================] - 1s 2ms/step - loss: 0.0875 - accuracy: 0.9668\n",
            "Epoch 198/200\n",
            "254/254 [==============================] - 1s 3ms/step - loss: 0.0875 - accuracy: 0.9659\n",
            "Epoch 199/200\n",
            "254/254 [==============================] - 1s 2ms/step - loss: 0.0839 - accuracy: 0.9679\n",
            "Epoch 200/200\n",
            "254/254 [==============================] - 1s 2ms/step - loss: 0.0908 - accuracy: 0.9642\n"
          ]
        },
        {
          "output_type": "execute_result",
          "data": {
            "text/plain": [
              "<keras.callbacks.History at 0x7fc418f9de10>"
            ]
          },
          "metadata": {},
          "execution_count": 34
        }
      ]
    },
    {
      "cell_type": "code",
      "source": [
        "y_pred = ann.predict(X_test)\n",
        "y_pred = (y_pred>0.5)\n",
        "#print(np.concatenate((y_pred.reshape(len(y_pred),1), y_test.reshape(len(y_test),1)),1))"
      ],
      "metadata": {
        "colab": {
          "base_uri": "https://localhost:8080/"
        },
        "id": "-qStHnwA-j0n",
        "outputId": "33c8dbf4-3260-49b8-9037-d9a79101e58b"
      },
      "execution_count": 37,
      "outputs": [
        {
          "output_type": "stream",
          "name": "stdout",
          "text": [
            "64/64 [==============================] - 0s 2ms/step\n"
          ]
        }
      ]
    },
    {
      "cell_type": "code",
      "source": [
        "# Making the Confusion Matrix\n",
        "from sklearn.metrics import confusion_matrix, accuracy_score, f1_score\n",
        "cm = confusion_matrix(y_test, y_pred)\n",
        "print(cm)\n",
        "accuracy_score(y_test, y_pred)"
      ],
      "metadata": {
        "colab": {
          "base_uri": "https://localhost:8080/"
        },
        "id": "kws7-tP0_xEY",
        "outputId": "493e881d-8bad-4f8e-9a74-fbd3f499ff29"
      },
      "execution_count": 55,
      "outputs": [
        {
          "output_type": "stream",
          "name": "stdout",
          "text": [
            "[[ 219   90]\n",
            " [  71 1646]]\n"
          ]
        },
        {
          "output_type": "execute_result",
          "data": {
            "text/plain": [
              "0.920533070088845"
            ]
          },
          "metadata": {},
          "execution_count": 55
        }
      ]
    },
    {
      "cell_type": "code",
      "source": [
        "print(f1_score(y_test, y_pred,average='weighted'))"
      ],
      "metadata": {
        "colab": {
          "base_uri": "https://localhost:8080/"
        },
        "id": "bOXrsKdCEABc",
        "outputId": "3bb4d681-a659-471e-87ad-57c8361a54e0"
      },
      "execution_count": 58,
      "outputs": [
        {
          "output_type": "stream",
          "name": "stdout",
          "text": [
            "0.9194913750199416\n"
          ]
        }
      ]
    },
    {
      "cell_type": "code",
      "source": [],
      "metadata": {
        "id": "OWot2aHeC9KF"
      },
      "execution_count": null,
      "outputs": []
    }
  ]
}